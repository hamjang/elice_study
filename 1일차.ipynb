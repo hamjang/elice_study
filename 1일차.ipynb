{
 "cells": [
  {
   "cell_type": "markdown",
   "metadata": {},
   "source": [
    "# 1.) 머신러닝의 개념\n",
    "- 명시적으로 프로그래밍을 하지 않고도 컴퓨터가 학습할 수 있는 능력을 갖게 하는 것\n"
   ]
  },
  {
   "cell_type": "markdown",
   "metadata": {},
   "source": [
    "### 1-1 데이터 전처리의 역할\n",
    "         1. 머신러닝의 입력 형태로 데이터 변환 ( 특성 엔지니어링 )\n",
    "         2. 결측값 및 이상치 처리하여 데이터 정제\n",
    "         3. 학습용 및 평가용 데이터 분리 \n",
    "        "
   ]
  },
  {
   "cell_type": "markdown",
   "metadata": {},
   "source": [
    "   - 데이터 변환 why ?\n",
    "       1. 대부분의 머신러닝 모델은 숫자 데이터를 입력 받는다.\n",
    "       2. 실제 데이터는 다양한 형태로 존재 ex) 이미지, 자연어, 범주형, 시계열 데이터\n",
    "       3. 실제 데이터는 머신러닝 모델이 이해할 수 없는 형태로 되어 있음\n",
    "       4. 전처리를 통하여 머신러닝 모델이 이해할 수 있는 수치형 자료로 변환\n",
    "\n",
    "       \n"
   ]
  },
  {
   "cell_type": "markdown",
   "metadata": {},
   "source": [
    "- 데이터 정제 why ?\n",
    "    - 데이터의 결측값 및 이상치를 처리"
   ]
  },
  {
   "cell_type": "markdown",
   "metadata": {},
   "source": [
    "- 데이터 분리 why ?\n",
    "    - 객관성을 위해서 학습용과 평가용 데이터를 분리"
   ]
  },
  {
   "cell_type": "markdown",
   "metadata": {},
   "source": [
    "### 1-2 범주형 자료의 전처리\n",
    "- 범주형 데이터\n",
    "   - 범주의 크기가 의미 없다면 명목형 자료\n",
    "   - 범주의 크기가 의미 있다면 순서형 자료"
   ]
  },
  {
   "cell_type": "markdown",
   "metadata": {},
   "source": [
    "- 대표적인 범주형 자료 변환 방식\n",
    "    - 명목형 자료 \n",
    "      - 수치 맵핑 방식 \n",
    "           - 일반적으로 범주를 0, 1로 맵핑 ex ) 성별 남(1), 여(2)\n",
    "      - 더미 기법 ( 수치 맵핑 방식과 유사하지만 변수가 많아짐 )\n",
    "           - 각 점주를 0 or 1로 변환 ex ) 해당되는 경우 1, 안되는 경우 0\n",
    "    - 순서형 자료\n",
    "      - 수치 맵핑 방식 \n",
    "           - 수치에 맵핑하여 변환하지만, 수치 간 크기 차이는 커스텀 가능\n",
    "           - 크기 차이가 머신러닝 결과에 영향을 끼칠 수 있음\n",
    "           - ex ) 매우많음 10, 많음 4, 없음 0"
   ]
  },
  {
   "cell_type": "markdown",
   "metadata": {},
   "source": [
    "##### 더미 방식 예시\n",
    "- dummies = pd.get_dummies(titanic[['Embarked']])\n",
    "##### 수치 맵핑\n",
    " - titanic = titanic.replace({'male': 0, 'female': 1})"
   ]
  },
  {
   "cell_type": "markdown",
   "metadata": {},
   "source": [
    "### 1-3 수치형 자료 살펴보기 \n",
    "- 수치형 자료 : 크기를 갖는 수치형 값으로 이루어진 데이터\n",
    "- 모델의 성능을 높이기 위해서 데이터 변환이 필요\n",
    "##### 대표적인 수치형 자료 변환 방식\n",
    "1. 스케일링 : 변수 값의 범위 및 크기를 변환하는 방식, 변수 간의 범위가 차이가 나면 사용\n",
    "      - 정규화 : 변수 X를 정규화한 값 X' , 0 ~ 1 의 값\n",
    "      - 표준화 : 변수 X를 표준화한 값 X' , 평균 0 과 표준편차 1\n"
   ]
  },
  {
   "cell_type": "markdown",
   "metadata": {},
   "source": [
    "2. 범주화 : 변수의 값보다 범주가 중요한 경우 사용\n",
    "    - 점수 예측이 아닌 점수 평균보다 높거나 낮은지\n",
    "    - ex ) 평균 이상 -> 1 , 평균 이하 -> 0"
   ]
  },
  {
   "cell_type": "markdown",
   "metadata": {},
   "source": [
    "##### 정규화 예시\n",
    "- def normal(data):\n",
    "    \n",
    "    data = (data-data.min())/(data.max()-data.min())\n",
    "    \n",
    "    return data\n",
    "##### 표준화 예시\n",
    "- def standard(data):\n",
    "    \n",
    "    data = (data-data.mean())/data.std()\n",
    "    \n",
    "    return data\n",
    "##### 다변량 수치형 자료 변환\n",
    "- def normal(data):\n",
    "\n",
    "    data = (data-data.min(axis = 0))/(data.max(axis = 0)-data.min(axis = 0))\n",
    "    \n",
    "    return data"
   ]
  },
  {
   "cell_type": "markdown",
   "metadata": {},
   "source": [
    "### 1-4 데이터 정제 및 분리하기\n",
    "- 머신러닝 모델의 입력 값으로 결측값을 사용할 수 없음, Null, None, NaN 등의 결측값을 처리해야한\n",
    "##### 대표적인 결측 값 처리 방식\n",
    "   1. 결측값이 존재하는 샘플 삭제\n",
    "   2. 결측값이 많이 존재하는 변수 삭제\n",
    "   3. 결측값을 다른 값으로 대체"
   ]
  },
  {
   "cell_type": "markdown",
   "metadata": {},
   "source": [
    "##### 이상치 처리하기\n",
    "- 이상치가 있으면 성능을 저하할 수 있음, 일반적으로 전처리 과정에서 제거하며, 어떤 값이 이상치인지 판단하는 기준이 중요함\n",
    "##### 이상치 판단 기준 방법\n",
    "   1. 통계 지표( 카이제곱 검정, IQK 지표 등 )를 사용하여 판단\n",
    "   2. 데이터 분포를 보고 직접 판단\n",
    "   3. 머신러닝 기법을 사용하여 이상치 분류"
   ]
  },
  {
   "cell_type": "markdown",
   "metadata": {},
   "source": [
    "### 데이터 분리는 왜 필요할까 ?\n",
    "- 객관적이기 위해서 일반적으로 7:3, 8:2 비율로 비율로 학습용 평가용 데이터를 분리함\n",
    "##### 지도 학습 데이터 분리 \n",
    "- 지도 학습의 경우 feature 데이터와 label 데이터를 분리하여 저장\n",
    "    - Feature 데이터 : label을 예측하기 위한 입력 값 ex) 공부시간\n",
    "    - Label 데이터 : 예측해야 할 대상이 되는 데이터 ex) 시험점수"
   ]
  },
  {
   "cell_type": "markdown",
   "metadata": {},
   "source": [
    "##### 결측값 처리 예시\n",
    "   - titanic_1 = titanic.drop(columns=['Cabin']) : Cabin 변수를 제거합니다.\n",
    "   - titanic_2 = titanic_1.dropna() : 결측값이 존재하는 샘플을 제거합니다.\n",
    "##### 데이터 분리 예시\n",
    "   - X = titanic_3.drop(columns=['Survived']) : Feaature 데이터\n",
    "   - y = titanic_3['Survived'] : Label 데이터\n",
    "   - X_train, X_test, y_train, y_test = train_test_split(X, y, test_size=0.3, random_state=42) : test set과 train set 으로 7:3으로 분리"
   ]
  },
  {
   "cell_type": "markdown",
   "metadata": {},
   "source": []
  }
 ],
 "metadata": {
  "kernelspec": {
   "display_name": "Python 3.8.8 ('base')",
   "language": "python",
   "name": "python3"
  },
  "language_info": {
   "codemirror_mode": {
    "name": "ipython",
    "version": 3
   },
   "file_extension": ".py",
   "mimetype": "text/x-python",
   "name": "python",
   "nbconvert_exporter": "python",
   "pygments_lexer": "ipython3",
   "version": "3.8.8"
  },
  "orig_nbformat": 4,
  "vscode": {
   "interpreter": {
    "hash": "90e68e2d215918e27054de83af9e76c00ba81faef2a1fcd4e4ecb816270b0b60"
   }
  }
 },
 "nbformat": 4,
 "nbformat_minor": 2
}

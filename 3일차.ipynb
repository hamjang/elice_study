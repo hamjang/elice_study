{
 "cells": [
  {
   "cell_type": "markdown",
   "metadata": {},
   "source": [
    "# 3.) 머신러닝 - 분류 (범주형)\n",
    " - 범주 : 주어진 입력 값이 어떤 클라스(범주)에 속할지에 대한 결과 값을 도출하는 알고리즘\n",
    " - 다양한 분류 알고리즘이 존재하며, 예측목표와 데이터 유형에 따라 적용"
   ]
  },
  {
   "cell_type": "markdown",
   "metadata": {},
   "source": [
    "### 3-1) 어떠한 분류 알고리즘 ?\n",
    " - 트리 구조 기반 \n",
    "    1. 의사결정나무\n",
    "    2. 랜덤포레스트"
   ]
  },
  {
   "cell_type": "markdown",
   "metadata": {},
   "source": [
    " - 확률 모델 기반 \n",
    "   1. 나이브 베이즈 분류기"
   ]
  },
  {
   "cell_type": "markdown",
   "metadata": {},
   "source": [
    " - 결정 경계 기반\n",
    "   1. 선형 분류기\n",
    "   2. 로지스틱 회귀 분류기\n",
    "   3. SVM"
   ]
  },
  {
   "cell_type": "markdown",
   "metadata": {},
   "source": [
    " - 신경망\n",
    "   1. 퍼셉트론\n",
    "   2. 딥러닝 모델"
   ]
  },
  {
   "cell_type": "markdown",
   "metadata": {},
   "source": [
    "### 3-2) 의사결정나무 \n",
    "- 스무고개와 같이 특정 질문들을 통해 정답을 찾아가는 모델\n",
    "- 최상단의 뿌리 마디에서 마지막 끝 마디까지 아래 방향으로 진행\n",
    "- 구조 \n",
    "    - 뿌리 마디 - ( 분리 기준 ) - 중간 마디 - ( 분리 기준 ) - 끝 마디\n",
    "- sklearn을 활용한 의사결정나무\n",
    "  - DTmodel = DecisionTreeClassifier()\n",
    "  - DTmodel.fit(train_X, train_Y)\n",
    "  - pred_X = DTmodel.predict(test_X)"
   ]
  },
  {
   "cell_type": "markdown",
   "metadata": {},
   "source": [
    "### 3-3) 분류 평가 지표\n",
    "  1. 혼동 행렬 : 분류 모델의 성능을 평가하기 위함\n",
    "     - False Positive : 실제 Negative인 값을 Positive 라고 예측 : 1형 오류\n",
    "     - False Negative : 실제 Positive인 값을 Negative 라고 예측 : 2형 오류\n",
    "  2. 정확도: TP + TN / P + N\n",
    "     - 전체 데이터 중에서 제대로 분류된 데이터의 비율로 모델이 얼마나 정확하게 분류하는지 나타냄\n",
    "     - 일반적으로 분류 모델의 주요 평가 방법으로 사용됨\n",
    "     - 클래스 비율이 불균형할 경우 평가 지표의 신뢰성을 잃을 가능성이 있음\n",
    "  3. 정밀도 : TP / TP + FP\n",
    "     - 모델이 Positive라고 분류한 데이터 중에서 실제로 Positive인 데이터의 비율 \n",
    "     - 실제로 Negative인 데이터를 Positive라고 판단하면 안되는 경우 사용되는 지표\n",
    "     - FP가 중요함\n",
    "  4. 재현율 : TP / TP + FN \n",
    "     - 실제로 Positive인 데이터 중에서 모델이 Positive로 분류한 데이터의 비율\n",
    "     - 실제로 Positive인 데이터를 Negative라고 판단하면 안되는 경우 사용되는 지표\n",
    "     - FN이 중요함"
   ]
  },
  {
   "cell_type": "markdown",
   "metadata": {},
   "source": [
    "- 다양한 분류 지표의 활용\n",
    "   - 혼동 행렬 : 분류 결과를 전체적으로 보고 싶을 때\n",
    "   - 정확도 : 정답을 얼마나 잘 맞췄는지\n",
    "   - 정밀도, 재현율 : FP 또는 FN 의 중요도가 높다면\n",
    "- ex)\n",
    "   1. 혼동 행렬 : cm = confusion_matrix(test_Y, y_pred)\n",
    "   2. 정확도 : acc_train = DTmodel.score(train_X, train_Y)\n",
    "   3. 정밀도 : precision_train = precision_score(train_Y, y_pred_train)\n",
    "   4. 재현율 : recall_train = recall_score(train_Y, y_pred_train)"
   ]
  },
  {
   "cell_type": "markdown",
   "metadata": {},
   "source": [
    "### 3-4) 랜덤포레스트 모델\n",
    "  - 다수의 의사결정나무가 분류 수행\n",
    "  - 다수결에 따라 최종결정을 하는 방식\n",
    "  - 여러 모델을 함께 사용하는 방식을 앙상블 기법이라 한다.\n",
    "  - ex) \n",
    "     - DTmodel = DecisionTreeClassifier(random_state = 42)\n",
    "     - DTmodel.fit(train_X, train_Y)"
   ]
  },
  {
   "cell_type": "markdown",
   "metadata": {},
   "source": [
    "### 3-5) 군집화\n",
    " - 분류와는 정답 데이터(Y)가 필요 없고 입력 데이터(X)만 있으면 된다.\n",
    " - ex) \n",
    "    - kmeans = kmeans(n_clusters = 2)\n",
    "    - kmeans.fit(train_X)\n",
    "    - pred = kmeans.predict(test_X)\n",
    "\n"
   ]
  },
  {
   "cell_type": "markdown",
   "metadata": {},
   "source": []
  }
 ],
 "metadata": {
  "kernelspec": {
   "display_name": "Python 3.8.8 ('base')",
   "language": "python",
   "name": "python3"
  },
  "language_info": {
   "codemirror_mode": {
    "name": "ipython",
    "version": 3
   },
   "file_extension": ".py",
   "mimetype": "text/x-python",
   "name": "python",
   "nbconvert_exporter": "python",
   "pygments_lexer": "ipython3",
   "version": "3.8.8"
  },
  "orig_nbformat": 4,
  "vscode": {
   "interpreter": {
    "hash": "90e68e2d215918e27054de83af9e76c00ba81faef2a1fcd4e4ecb816270b0b60"
   }
  }
 },
 "nbformat": 4,
 "nbformat_minor": 2
}
